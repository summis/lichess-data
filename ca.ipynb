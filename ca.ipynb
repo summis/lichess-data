{
 "cells": [
  {
   "cell_type": "code",
   "execution_count": 1,
   "metadata": {},
   "outputs": [],
   "source": [
    "library(ca)\n",
    "library(ggplot2)\n",
    "library(reshape)"
   ]
  },
  {
   "cell_type": "code",
   "execution_count": 2,
   "metadata": {},
   "outputs": [],
   "source": [
    "# trying to plot this causes error probably because just two modalities are too little\n",
    "color_data <- read.table(\"csv/color_and_result.csv\", header=T, sep=\",\", row.names=1)"
   ]
  },
  {
   "cell_type": "code",
   "execution_count": 3,
   "metadata": {},
   "outputs": [],
   "source": [
    "s <- as.matrix(color_data)\n",
    "\n",
    "v1 <- margin.table(s,1)\n",
    "v2 <- margin.table(s,2)\n",
    "\n",
    "V1 <- matrix(v1,ncol=1) \n",
    "V2 <- matrix(v2,nrow=1) \n",
    "\n",
    "E <- V1 %*% V2 /sum(s)  \n",
    "\n",
    "# Attraction repulsion matrix\n",
    "D <- s/E"
   ]
  },
  {
   "cell_type": "code",
   "execution_count": 4,
   "metadata": {},
   "outputs": [
    {
     "data": {
      "text/html": [
       "<strong>png:</strong> 2"
      ],
      "text/latex": [
       "\\textbf{png:} 2"
      ],
      "text/markdown": [
       "**png:** 2"
      ],
      "text/plain": [
       "png \n",
       "  2 "
      ]
     },
     "metadata": {},
     "output_type": "display_data"
    }
   ],
   "source": [
    "melted <- melt(t(D))\n",
    "\n",
    "\n",
    "png(file=\"img/color_and_result.png\", width=800, height=450)\n",
    "ggplot(melted, aes(x=X1, y=X2, fill=value)) +\n",
    "  geom_tile() +\n",
    "  scale_fill_gradient2(low = \"blue\", high = \"red\", mid = \"white\",\n",
    "                       midpoint = median(melted$value), limit = c(0.5, 1.55),\n",
    "                       name=\"AR value\") +\n",
    "  theme(axis.text.x = element_text(angle = 45, vjust = 1, \n",
    "                                   size = 9, hjust = 1)) +\n",
    "  coord_fixed() +\n",
    "  ggtitle(label = c('Heatmap representation of the Attraction Repulsion Matrix')) +\n",
    "  xlab('Game result') +\n",
    "  ylab('Color of pieces')\n",
    "dev.off()"
   ]
  },
  {
   "cell_type": "code",
   "execution_count": 5,
   "metadata": {},
   "outputs": [],
   "source": [
    "variant_data <- read.table(\"csv/variant_and_result.csv\",header=T,sep=\",\",row.names=1)\n",
    "variant_data.ca <- ca(variant_data)\n",
    "#summary(variant_data.ca)"
   ]
  },
  {
   "cell_type": "code",
   "execution_count": 6,
   "metadata": {},
   "outputs": [
    {
     "data": {
      "text/html": [
       "<strong>png:</strong> 2"
      ],
      "text/latex": [
       "\\textbf{png:} 2"
      ],
      "text/markdown": [
       "**png:** 2"
      ],
      "text/plain": [
       "png \n",
       "  2 "
      ]
     },
     "metadata": {},
     "output_type": "display_data"
    }
   ],
   "source": [
    "png(file=\"img/variant_and_result.png\", width=800, height=800)\n",
    "plot(variant_data.ca, arrows=c(T,T), map=\"symmetric\")\n",
    "dev.off()"
   ]
  },
  {
   "cell_type": "code",
   "execution_count": 7,
   "metadata": {},
   "outputs": [],
   "source": [
    "time_categories_data <- read.table(\"csv/time_categories_and_result.csv\",header=T,sep=\",\",row.names=1)\n",
    "time_categories_data.ca <- ca(time_categories_data)"
   ]
  },
  {
   "cell_type": "code",
   "execution_count": 8,
   "metadata": {},
   "outputs": [
    {
     "data": {
      "text/html": [
       "<strong>png:</strong> 2"
      ],
      "text/latex": [
       "\\textbf{png:} 2"
      ],
      "text/markdown": [
       "**png:** 2"
      ],
      "text/plain": [
       "png \n",
       "  2 "
      ]
     },
     "metadata": {},
     "output_type": "display_data"
    }
   ],
   "source": [
    "png(file=\"img/time_and_result.png\", width=800, height=800)\n",
    "plot(time_categories_data.ca, arrows=c(T,T), map=\"symmetric\")\n",
    "dev.off()"
   ]
  },
  {
   "cell_type": "code",
   "execution_count": 9,
   "metadata": {},
   "outputs": [],
   "source": [
    "games <- read.table(\"csv/mca.csv\", header=T, sep=\",\")\n",
    "games.mca <- mjca(games, lambda=\"indicator\", reti=T)"
   ]
  },
  {
   "cell_type": "code",
   "execution_count": 10,
   "metadata": {},
   "outputs": [
    {
     "data": {
      "text/html": [
       "<strong>png:</strong> 2"
      ],
      "text/latex": [
       "\\textbf{png:} 2"
      ],
      "text/markdown": [
       "**png:** 2"
      ],
      "text/plain": [
       "png \n",
       "  2 "
      ]
     },
     "metadata": {},
     "output_type": "display_data"
    }
   ],
   "source": [
    "png(file=\"img/mca.png\", width=800, height=800)\n",
    "plot(games.mca, arrows = c(T,T))\n",
    "dev.off()"
   ]
  }
 ],
 "metadata": {
  "kernelspec": {
   "display_name": "R",
   "language": "R",
   "name": "ir"
  },
  "language_info": {
   "codemirror_mode": "r",
   "file_extension": ".r",
   "mimetype": "text/x-r-source",
   "name": "R",
   "pygments_lexer": "r",
   "version": "4.0.3"
  }
 },
 "nbformat": 4,
 "nbformat_minor": 4
}
