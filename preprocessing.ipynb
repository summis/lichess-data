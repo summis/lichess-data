{
 "cells": [
  {
   "cell_type": "markdown",
   "metadata": {},
   "source": [
    "# Analysis on my chess games at [lichess.org](https://lichess.org)\n",
    "\n",
    "I have played quite many chess games on the aforesaid website. In this notebook I'll do some exploratory analysis of my games. First we need data; we can get it from [lichess api](https://lichess.org/api#operation/apiGamesUser). Data can be downloaded without authenticating but it is faster if you authenticate and use your own [api token](https://lichess.org/account/oauth/token) and add to your request header in following `curl` command with option `-H \"Authorization: Bearer <your_token>\"`. "
   ]
  },
  {
   "cell_type": "code",
   "execution_count": 1,
   "metadata": {},
   "outputs": [],
   "source": [
    "# The would work on linux but on windows shell commands are not available\n",
    "#\n",
    "#! [ ! -f games.txt ] && curl https://lichess.org/api/games/user/aitotumainen > games.txt\n",
    "#! head -22 games.txt"
   ]
  },
  {
   "cell_type": "code",
   "execution_count": 2,
   "metadata": {},
   "outputs": [],
   "source": [
    "import requests\n",
    "import os.path\n",
    "\n",
    "if not os.path.isfile(\"./games.txt\"):\n",
    "    # This might take couple of minutes.\n",
    "    r = requests.get('https://lichess.org/api/games/user/aitotumainen')\n",
    "    \n",
    "    with open(\"games.txt\", \"x\") as f:\n",
    "        f.write(r.text)"
   ]
  },
  {
   "cell_type": "markdown",
   "metadata": {},
   "source": [
    "## Data preprocessing\n",
    "Convert data to a list of dictionaries for further calculations."
   ]
  },
  {
   "cell_type": "code",
   "execution_count": 3,
   "metadata": {},
   "outputs": [],
   "source": [
    "def data_preprocessing(file_name):\n",
    "    \"\"\"Given Lichess API output in text file produces list of dictionary object that \n",
    "    contain game data.\"\"\"\n",
    "    \n",
    "    with open(file_name) as f:\n",
    "        games = f.read().rstrip().split('\\n\\n\\n')\n",
    "\n",
    "    for j , game_str in enumerate(games):\n",
    "        game = game_str.splitlines()\n",
    "        try: \n",
    "            d = {}\n",
    "            i = 0\n",
    "            d['Event'] = game[i].split('\\\"')[1]; i += 1\n",
    "            d['Site'] = game[i].split('\\\"')[1]; i += 1\n",
    "            d['Date'] = game[i].split('\\\"')[1]; i += 1\n",
    "            d['White'] = game[i].split('\\\"')[1]; i += 1\n",
    "            d['Black'] = game[i].split('\\\"')[1]; i += 1\n",
    "            d['Result'] = game[i].split('\\\"')[1]; i += 1\n",
    "            d['UTCDate'] = game[i].split('\\\"')[1]; i += 1\n",
    "            d['UTCTime'] = game[i].split('\\\"')[1]; i += 1\n",
    "            d['WhiteElo'] = game[i].split('\\\"')[1]; i += 1\n",
    "            d['BlackElo'] = game[i].split('\\\"')[1]; i += 1\n",
    "            # Rating difference is only present in rated games.\n",
    "            if 'WhiteRatingDiff' in game_str:\n",
    "                d['WhiteRatingDiff'] = game[i].split('\\\"')[1]; i += 1\n",
    "                d['BlackRatingDiff'] = game[i].split('\\\"')[1]; i += 1\n",
    "            # Sometimes player has title such as International Master, Lichess Master etc. attached\n",
    "            # to their name. Test for this posibility. I don't unfortunately have a title so only \n",
    "            # one of these possiblities can occur.\n",
    "            if 'WhiteTitle' in game_str:\n",
    "                d['WhiteTitle'] = game[i].split('\\\"')[1]; i += 1\n",
    "            if 'BlackTitle' in game_str:\n",
    "                d['BlackTitle'] = game[i].split('\\\"')[1]; i += 1\n",
    "            d['Variant'] = game[i].split('\\\"')[1]; i += 1\n",
    "            d['TimeControl'] = game[i].split('\\\"')[1]; i += 1\n",
    "            d['ECO'] = game[i].split('\\\"')[1]; i += 1\n",
    "            d['Termination'] = game[i].split('\\\"')[1]; i += 1\n",
    "            # Chess 960 variant has additional fields\n",
    "            if 'Chess960' in game_str:\n",
    "                d['FEN'] = game[i].split('\\\"')[1]; i += 1\n",
    "                d['Setup'] = game[i].split('\\\"')[1]; i += 1\n",
    "            # There is one empty line before Moves which is the last attribute given by API\n",
    "            i += 1; d['Moves'] = game[i]\n",
    "            games[j] = d\n",
    "        except:\n",
    "            print(\"Error handling following game:\")\n",
    "            print(game_str)\n",
    "            \n",
    "    return games"
   ]
  },
  {
   "cell_type": "code",
   "execution_count": 4,
   "metadata": {},
   "outputs": [],
   "source": [
    "def long_or_short_time_control(game, threshold):\n",
    "    \"\"\"Make additional distinction between long time formats and short time formats. \n",
    "    Threshold for Long format is given in seconds.\"\"\"\n",
    "    \n",
    "    time_control = game['TimeControl']\n",
    "    \n",
    "    if time_control == '-' or int(time_control.split('+')[0]) >= threshold:\n",
    "        return game[\"Variant\"] + \"Long\"\n",
    "    else:\n",
    "        return game[\"Variant\"] + \"Short\""
   ]
  },
  {
   "cell_type": "code",
   "execution_count": 5,
   "metadata": {},
   "outputs": [],
   "source": [
    "games = data_preprocessing(\"games.txt\")\n",
    "\n",
    "# Divide standard chess to two groups based on time.\n",
    "for game in games:\n",
    "    if game[\"Variant\"] == \"Standard\":\n",
    "        game[\"Variant\"] = long_or_short_time_control(game, 600)"
   ]
  },
  {
   "cell_type": "markdown",
   "metadata": {},
   "source": [
    "## Summary statistics"
   ]
  },
  {
   "cell_type": "code",
   "execution_count": 6,
   "metadata": {},
   "outputs": [
    {
     "name": "stdout",
     "output_type": "stream",
     "text": [
      "In total I have played 9085 games between 2016.02.15 - 2021.03.25.\n"
     ]
    }
   ],
   "source": [
    "print(f\"In total I have played {len(games)} games between {games[-1]['Date']} - {games[1]['Date']}.\")"
   ]
  },
  {
   "cell_type": "markdown",
   "metadata": {},
   "source": [
    "Games by variant."
   ]
  },
  {
   "cell_type": "code",
   "execution_count": 7,
   "metadata": {},
   "outputs": [],
   "source": [
    "def is_victory(game):\n",
    "    return (game['Result'] == '0-1' and game['Black'] == 'aitotumainen')\\\n",
    "            or (game['Result'] == '1-0' and game['White'] == 'aitotumainen')\n",
    "\n",
    "\n",
    "def is_draw(game):\n",
    "    return game['Result'] == '1/2-1/2'\n",
    "\n",
    "\n",
    "def is_loss(game):\n",
    "    return not is_victory(game) and not is_draw(game)\n",
    "\n",
    "\n",
    "def result_by_variant(games):\n",
    "    results = {}\n",
    "    for game in games:\n",
    "        if not game['Variant'] in results:\n",
    "            results[game['Variant']] = {'victories': 0, 'draws': 0, 'losses': 0 }\n",
    "\n",
    "        if is_victory(game):\n",
    "            results[game['Variant']]['victories'] += 1\n",
    "        elif is_draw(game):\n",
    "            results[game['Variant']]['draws'] += 1\n",
    "        elif is_loss(game):\n",
    "            results[game['Variant']]['losses'] += 1\n",
    "    \n",
    "    return results"
   ]
  },
  {
   "cell_type": "code",
   "execution_count": 8,
   "metadata": {},
   "outputs": [
    {
     "name": "stdout",
     "output_type": "stream",
     "text": [
      "Atomic {'victories': 138, 'draws': 7, 'losses': 120}\n",
      "Crazyhouse {'victories': 1732, 'draws': 15, 'losses': 2535}\n",
      "StandardShort {'victories': 1162, 'draws': 70, 'losses': 1581}\n",
      "From Position {'victories': 5, 'draws': 0, 'losses': 5}\n",
      "StandardLong {'victories': 794, 'draws': 79, 'losses': 712}\n",
      "King of the Hill {'victories': 34, 'draws': 0, 'losses': 33}\n",
      "Chess960 {'victories': 9, 'draws': 1, 'losses': 12}\n",
      "Three-check {'victories': 6, 'draws': 0, 'losses': 9}\n",
      "Racing Kings {'victories': 8, 'draws': 0, 'losses': 8}\n",
      "Horde {'victories': 1, 'draws': 0, 'losses': 7}\n",
      "Antichess {'victories': 2, 'draws': 0, 'losses': 0}\n"
     ]
    }
   ],
   "source": [
    "for k, v in result_by_variant(games).items():\n",
    "    print(k, v)"
   ]
  },
  {
   "cell_type": "code",
   "execution_count": 9,
   "metadata": {},
   "outputs": [],
   "source": [
    "# To get nice latex table\n",
    "#\n",
    "# for k, v in result_by_variant(games).items():\n",
    "#     print(f\"{k}& {v['victories']}& {v['draws']}& {v['losses']}& {v['victories'] / (v['victories']+v['draws']+v['losses'])}\")"
   ]
  },
  {
   "cell_type": "markdown",
   "metadata": {},
   "source": [
    "## Winning probability vs. opponent strength"
   ]
  },
  {
   "cell_type": "code",
   "execution_count": 10,
   "metadata": {},
   "outputs": [],
   "source": [
    "import numpy as np\n",
    "import math\n",
    "\n",
    "def rating_difference(game):\n",
    "    if game['Black'] == 'aitotumainen':\n",
    "        return int(game['WhiteElo']) - int(game['BlackElo'])\n",
    "    else:\n",
    "        return int(game['BlackElo']) - int(game['WhiteElo'])\n",
    "        \n",
    "    \n",
    "def both_have_rating(game):\n",
    "    return game['BlackElo'] != \"?\" and game['WhiteElo'] != \"?\"\n",
    "\n",
    "\n",
    "def function_hist(a, ini, final, nbins):\n",
    "    bins = np.linspace(ini, final, nbins+1)\n",
    "    hist = np.histogram(np.array(a), bins)\n",
    "    return hist\n",
    "\n",
    "\n",
    "def games_from_variant(games, variant):\n",
    "    return [g for g in games if g['Variant'] == variant]\n",
    "\n",
    "\n",
    "def games_from_variants(games, variants):\n",
    "    return [g for g in games if g['Variant'] in variants]\n",
    "\n",
    "\n",
    "def games_with_rating(games):\n",
    "    return [g for g in games if both_have_rating(g)]\n",
    "\n",
    "\n",
    "def rating_differences(games):\n",
    "    return [rating_difference(g) for g in games]\n",
    "    \n",
    "    \n",
    "def only_wins(games):\n",
    "    return [g for g in games if is_victory(g)]\n",
    "\n",
    "\n",
    "def games_with_rating_difference_above_threshold(games, threshold):\n",
    "    return [g for g in games if rating_difference(g) >= threshold]\n",
    "\n",
    "\n",
    "def is_black(game):\n",
    "    return game['Black'] == 'aitotumainen'\n",
    "\n",
    "\n",
    "def is_white(game):\n",
    "    return game['White'] == 'aitotumainen'"
   ]
  },
  {
   "cell_type": "code",
   "execution_count": 11,
   "metadata": {},
   "outputs": [],
   "source": [
    "def winning_probability_per_bin(variant, hist_N):\n",
    "    \"\"\"This function divides games to hist_N equally wide bins based on the \n",
    "    rating difference between players and calculates winning probability inside\n",
    "    each bin.\"\"\"\n",
    "    \n",
    "    elo_differences = rating_differences(games_with_rating(games_from_variant(games, variant)))\n",
    "    wins_elo_differences = rating_differences(only_wins(games_with_rating(games_from_variant(games, variant))))\n",
    "    \n",
    "    hist_min = min(elo_differences)\n",
    "    hist_max = max(elo_differences)\n",
    "    \n",
    "    hist = function_hist(elo_differences, hist_min, hist_max, hist_N)\n",
    "    hist_wins = function_hist(wins_elo_differences, hist_min, hist_max, hist_N)\n",
    "    \n",
    "    bins = [math.ceil(num) for num in hist[1]]\n",
    "    win_probability = np.divide(hist_wins[0], hist[0])\n",
    "    \n",
    "    return win_probability, bins"
   ]
  },
  {
   "cell_type": "code",
   "execution_count": 12,
   "metadata": {},
   "outputs": [],
   "source": [
    "hist_N = 20\n",
    "zh_win_probabilities, zh_bins = winning_probability_per_bin(\"Crazyhouse\", hist_N)\n",
    "sts_win_probabilities, sts_bins = winning_probability_per_bin(\"StandardShort\", hist_N)\n",
    "stl_win_probabilities, stl_bins = winning_probability_per_bin(\"StandardLong\", hist_N)"
   ]
  },
  {
   "cell_type": "code",
   "execution_count": 13,
   "metadata": {},
   "outputs": [],
   "source": [
    "import matplotlib\n",
    "import matplotlib.pyplot as plt\n",
    "from datetime import datetime"
   ]
  },
  {
   "cell_type": "code",
   "execution_count": 14,
   "metadata": {},
   "outputs": [],
   "source": [
    "# sensible default visuals + emoji support\n",
    "matplotlib.rc('axes', grid=True)\n",
    "matplotlib.rc('axes.grid', axis=\"y\")\n",
    "matplotlib.rc('axes.spines', left=False, right=False, top=False, bottom=False)\n",
    "matplotlib.rc('grid', color='white')\n",
    "matplotlib.rc('legend', frameon=False)\n",
    "matplotlib.rc('xtick', bottom=False)\n",
    "matplotlib.rc('ytick', left=False)\n",
    "matplotlib.rc('font', family='Segoe UI Emoji')"
   ]
  },
  {
   "cell_type": "code",
   "execution_count": 15,
   "metadata": {},
   "outputs": [
    {
     "data": {
      "image/png": "[encoded data removed]",
      "text/plain": [
       "<Figure size 1080x720 with 4 Axes>"
      ]
     },
     "metadata": {
      "needs_background": "light"
     },
     "output_type": "display_data"
    }
   ],
   "source": [
    "fig, ax = plt.subplots(nrows=2, ncols=2, figsize=(15,10))\n",
    "fig.tight_layout(pad=8.0)\n",
    "\n",
    "x = range(0,hist_N)\n",
    "zh_bins_labels = [f'[{zh_bins[i]}, {zh_bins[i+1]})' for i in range(0, len(zh_bins)-1)]\n",
    "stl_bins_labels = [f'[{stl_bins[i]}, {stl_bins[i+1]})' for i in range(0, len(stl_bins)-1)]\n",
    "sts_bins_labels = [f'[{sts_bins[i]}, {sts_bins[i+1]})' for i in range(0, len(sts_bins)-1)]\n",
    "\n",
    "ax[0][0].bar(x, zh_win_probabilities, width=0.5, color=\"goldenrod\")\n",
    "ax[0][0].set_ylabel(\"Winning probablity vs rating difference in Crazyhouse\", rotation=0, size=14, position=(0,1.01), horizontalalignment='left')\n",
    "ax[0][0].set_xticks(x)\n",
    "ax[0][0].set_xticklabels(zh_bins_labels, rotation=50)\n",
    "\n",
    "ax[1][0].bar(x, stl_win_probabilities, width=0.5, color=\"blue\")\n",
    "ax[1][0].set_ylabel(\"Winning probablity vs rating difference in StandardLong\", rotation=0, size=14, position=(0,1.01), horizontalalignment='left')\n",
    "ax[1][0].set_xticks(x)\n",
    "ax[1][0].set_xticklabels(stl_bins_labels, rotation=50)\n",
    "\n",
    "ax[0][1].bar(x, sts_win_probabilities, width=0.5, color=\"darkturquoise\")\n",
    "ax[0][1].set_ylabel(\"Winning probablity vs rating difference in StandardShort\", rotation=0, size=14, position=(0,1.01), horizontalalignment='left')\n",
    "ax[0][1].set_xticks(x)\n",
    "ax[0][1].set_xticklabels(sts_bins_labels, rotation=50)\n",
    "\n",
    "ax[1][1].axis('off')\n",
    "\n",
    "plt.show()\n",
    "fig.savefig(\"img/winning_probabilities_vs_rating.png\")"
   ]
  },
  {
   "cell_type": "markdown",
   "metadata": {},
   "source": [
    "### When I have played chess?"
   ]
  },
  {
   "cell_type": "markdown",
   "metadata": {},
   "source": [
    "In following mostly crazyhouse and standard variants are analyzed because they both have significant number of games. "
   ]
  },
  {
   "cell_type": "code",
   "execution_count": 16,
   "metadata": {},
   "outputs": [],
   "source": [
    "def games_per_date(games):\n",
    "    \"\"\"Input is list of dicts containing game data and output is list of tuples where first \n",
    "    value is date and second is number of games on that day\"\"\"\n",
    "    \n",
    "    first_year = int(games[-1]['UTCDate'].split('.')[0])\n",
    "    first_month = int(games[-1]['UTCDate'].split('.')[1])\n",
    "    last_year = int(games[1]['UTCDate'].split('.')[0])\n",
    "    last_month = int(games[1]['UTCDate'].split('.')[1])\n",
    "    \n",
    "    out = {}\n",
    "    # fill with zeros months that don't have games in data set\n",
    "    for m in range(1,13):\n",
    "        for y in range(first_year, last_year+1):\n",
    "            if not ((y == first_year and m < first_month) or (y == last_year and m > last_month)):\n",
    "                out[f\"{y}-{m:02}\"] = 0\n",
    "    \n",
    "    for game in games:\n",
    "        y, m, d = [int(x) for x in game['UTCDate'].split('.')]\n",
    "        date = f\"{y}-{m:02}\"\n",
    "        out[date] += 1\n",
    "\n",
    "    return sorted([(k, v) for k, v in out.items()], key=lambda t: t[0])\n",
    "\n",
    "\n",
    "def sparse_ticks(ax, gap):\n",
    "    \"\"\"Show labels more sparsely, maintaining end point labels.\"\"\"\n",
    "    \n",
    "    last = len(ax.xaxis.get_ticklabels())-1\n",
    "    for n, label in enumerate(ax.xaxis.get_ticklabels()):\n",
    "        if ((n % gap != 0) and (n != last)) or ((n % gap == 0) and (n >= last-gap)):\n",
    "            label.set_visible(False)"
   ]
  },
  {
   "cell_type": "code",
   "execution_count": 17,
   "metadata": {},
   "outputs": [],
   "source": [
    "crazyhouse = games_per_date(games_from_variant(games, 'Crazyhouse'))\n",
    "standard = games_per_date(games_from_variants(games, ['StandardLong', 'StandardShort']))\n",
    "standard_long = games_per_date(games_from_variant(games, 'StandardLong'))\n",
    "\n",
    "x_crazyhouse = [x[0] for x in crazyhouse]\n",
    "y_crazyhouse = [x[1] for x in crazyhouse]\n",
    "x_standard = [x[0] for x in standard]\n",
    "y_standard = [x[1] for x in standard]\n",
    "x_standard_long = [x[0] for x in standard_long]\n",
    "y_standard_long = [x[1] for x in standard_long]"
   ]
  },
  {
   "cell_type": "code",
   "execution_count": 18,
   "metadata": {},
   "outputs": [
    {
     "data": {
      "image/png": "[encoded data removed]",
      "text/plain": [
       "<Figure size 1152x720 with 2 Axes>"
      ]
     },
     "metadata": {
      "needs_background": "light"
     },
     "output_type": "display_data"
    }
   ],
   "source": [
    "fig, ax = plt.subplots(2, figsize=(16,10))\n",
    "fig.tight_layout(pad=8.0)\n",
    "\n",
    "ax[0].bar(x_crazyhouse,y_crazyhouse, width=0.5, color=\"goldenrod\")\n",
    "ax[0].set_ylabel(\"Crazyhouse games\", rotation=0, size=14, position=(0,1.01), horizontalalignment='left')\n",
    "sparse_ticks(ax[0], 5)\n",
    "\n",
    "ax[1].bar(x_standard,y_standard, width=0.5, color=\"darkturquoise\", label='All stadard games')\n",
    "ax[1].bar(x_standard_long,y_standard_long, width=0.5, color=\"blue\", label='Long time control stadard games')\n",
    "ax[1].set_ylabel(\"Standard games\", rotation=0, size=14, position=(0,1.01), horizontalalignment='left')\n",
    "ax[1].legend(loc=(0.7, 0.7))\n",
    "sparse_ticks(ax[1], 5)\n",
    "\n",
    "plt.show()\n",
    "fig.savefig(\"img/games_vs_month.png\")"
   ]
  },
  {
   "cell_type": "markdown",
   "metadata": {},
   "source": [
    "I started playing in February 2016. Around May or June I achieved my top ratings and after that played significantly less. In March 2019 I started on my first job and I believe that it dropped my baseline lower. Corona has increased my activity although I played a lot already in February 2020."
   ]
  },
  {
   "cell_type": "markdown",
   "metadata": {},
   "source": [
    "### Game result and time of date"
   ]
  },
  {
   "cell_type": "code",
   "execution_count": 19,
   "metadata": {},
   "outputs": [],
   "source": [
    "def game_result_and_hour(games):\n",
    "    \"\"\"Returns three 24-long arrays, first for victories, second for draws\n",
    "    and third for losses. Value at index i tells how many victories/draws/\n",
    "    losses there were with games starting at hour i of day.\n",
    "    \"\"\"\n",
    "    victories = 24 * [0]\n",
    "    draws = 24 * [0]\n",
    "    losses = 24 * [0]\n",
    "\n",
    "    for i, game in enumerate(games):\n",
    "        hour = int(game['UTCTime'].split(':')[0])\n",
    "        if is_victory(game):\n",
    "            victories[hour] += 1\n",
    "        elif is_draw(game):\n",
    "            draws[hour] += 1\n",
    "        else:\n",
    "            losses[hour] += 1\n",
    "            \n",
    "    return victories, draws, losses"
   ]
  },
  {
   "cell_type": "code",
   "execution_count": 20,
   "metadata": {},
   "outputs": [],
   "source": [
    "crazyhouse_wins, crazyhouse_draws, crazyhouse_losses = game_result_and_hour(games_from_variant(games, 'Crazyhouse'))\n",
    "standard_wins, standard_draws, standard_losses = game_result_and_hour(games_from_variant(games, 'StandardShort'))\n",
    "standard_10_min_wins, standard_10_min_draws, standard_10_min_losses = game_result_and_hour(games_from_variant(games, 'StandardLong'))"
   ]
  },
  {
   "cell_type": "code",
   "execution_count": 21,
   "metadata": {},
   "outputs": [],
   "source": [
    "def pretty_plot_wins_and_losses(ax, wins, losses, title):\n",
    "    bar_width=0.4\n",
    "    label_size=14\n",
    "    alpha_value=0.4\n",
    "    losses = [-x for x in losses]\n",
    "    diff = [sum(x) for x in zip(wins, losses)]\n",
    "    ax.bar(range(24), losses, width=bar_width, color=\"blue\", alpha=alpha_value, label=\"losses\")\n",
    "    ax.bar(range(24), wins, width=bar_width, color=\"orange\", alpha=alpha_value, label=\"wins\")\n",
    "    ax.bar(range(24), diff, width=bar_width, color=\"red\", label=\"difference\")\n",
    "    ax.axhline(linewidth=0.4, xmin=0.05, xmax=0.95, color='black')\n",
    "    ax.set_ylabel(title, rotation=0, size=label_size, position=(0,1.01), horizontalalignment='left')\n",
    "    ax.set_xlabel(\"🕒\", rotation=0, size=label_size, position=(0.5,0))\n",
    "    ax.legend(loc=(0.05, 0.7))\n",
    "    \n",
    "    # Remove \"-\" signs from yticklabels. Causes warning but doesn't affect plot.\n",
    "    locsy = ax.get_yticks()\n",
    "    \n",
    "    def remove_prefix(s, prefix):\n",
    "        return s[len(prefix):] if s.startswith(prefix) else s\n",
    "    \n",
    "    ax.set_yticklabels([remove_prefix(str(int(x)), \"-\") for x in locsy])\n",
    "    \n",
    "    locsx = range(0,24,4)\n",
    "    ax.set_xticks(locsx)\n",
    "    ax.set_xticklabels(locsx)"
   ]
  },
  {
   "cell_type": "code",
   "execution_count": 22,
   "metadata": {},
   "outputs": [
    {
     "name": "stderr",
     "output_type": "stream",
     "text": [
      "<ipython-input-21-ae623cc07165>:21: UserWarning: FixedFormatter should only be used together with FixedLocator\n",
      "  ax.set_yticklabels([remove_prefix(str(int(x)), \"-\") for x in locsy])\n"
     ]
    },
    {
     "data": {
      "image/png": "[encoded data removed]",
      "text/plain": [
       "<Figure size 936x936 with 3 Axes>"
      ]
     },
     "metadata": {
      "needs_background": "light"
     },
     "output_type": "display_data"
    }
   ],
   "source": [
    "fig, ax = plt.subplots(3, figsize=(13,13))\n",
    "fig.tight_layout(pad=8.0)\n",
    "\n",
    "pretty_plot_wins_and_losses(ax[0], crazyhouse_wins, crazyhouse_losses, \"Crazyhouse games\")\n",
    "pretty_plot_wins_and_losses(ax[1], standard_wins, standard_losses, \"Standard games short time control\")\n",
    "pretty_plot_wins_and_losses(ax[2], standard_10_min_wins, standard_10_min_losses, \"Standard games long time control\")\n",
    "\n",
    "plt.show()\n",
    "fig.savefig(\"img/games_vs_time_of_day.png\")"
   ]
  },
  {
   "cell_type": "markdown",
   "metadata": {},
   "source": [
    "Interesting here is that my performance seem to be highest at around 14:00 which is visible both in vrazyhouse and standard and especially with long time control. My best guess is that it is caused by my habit of drinking coffee at around that time. Effect is temporary as it is visible only during one hour."
   ]
  },
  {
   "cell_type": "markdown",
   "metadata": {},
   "source": [
    "## Bivariate Correspondence Analysis"
   ]
  },
  {
   "cell_type": "markdown",
   "metadata": {},
   "source": [
    "Here we only investigate games where my opponent is over a given amount of rating points stronger than me and analyse what factors are related to good performace against such strong opponents. We aggregate game data to suitable categories and save data as CSV files and perform rest of the analysis with R."
   ]
  },
  {
   "cell_type": "code",
   "execution_count": 23,
   "metadata": {},
   "outputs": [
    {
     "data": {
      "text/plain": [
       "3212"
      ]
     },
     "execution_count": 23,
     "metadata": {},
     "output_type": "execute_result"
    }
   ],
   "source": [
    "threshold = 100\n",
    "game_data = games_with_rating_difference_above_threshold(games_from_variants(games_with_rating(games), [\"Crazyhouse\", \"StandardLong\", \"StandardShort\"]), threshold)\n",
    "len(game_data)"
   ]
  },
  {
   "cell_type": "code",
   "execution_count": 24,
   "metadata": {},
   "outputs": [],
   "source": [
    "import csv\n",
    "\n",
    "# color of pieces and result\n",
    "bw = len([g for g in game_data if is_black(g) and is_victory(g)])\n",
    "ww = len([g for g in game_data if is_white(g) and is_victory(g)])\n",
    "bd = len([g for g in game_data if is_black(g) and is_draw(g)])\n",
    "wd = len([g for g in game_data if is_white(g) and is_draw(g)])\n",
    "bl = len([g for g in game_data if is_black(g) and is_loss(g)])\n",
    "wl = len([g for g in game_data if is_white(g) and is_loss(g)])\n",
    "\n",
    "with open('csv/color_and_result.csv', 'w', newline='') as file:\n",
    "    writer = csv.writer(file)\n",
    "    writer.writerow([\"Color\", \"Wins\", \"Draws\", \"Losses\"])\n",
    "    writer.writerow([\"White\", ww, wd, wl])\n",
    "    writer.writerow([\"Black\", bw, bd, bl])"
   ]
  },
  {
   "cell_type": "code",
   "execution_count": 25,
   "metadata": {},
   "outputs": [],
   "source": [
    "def only_draws(games):\n",
    "    return [g for g in games if is_draw(g)]\n",
    "\n",
    "    \n",
    "def only_losses(games):\n",
    "    return [g for g in games if is_loss(g)]\n",
    "\n",
    "    \n",
    "def only_wins(games):\n",
    "    return [g for g in games if is_victory(g)]"
   ]
  },
  {
   "cell_type": "code",
   "execution_count": 26,
   "metadata": {},
   "outputs": [],
   "source": [
    "# game variant and result\n",
    "variants = [\"Crazyhouse\", \"StandardLong\", \"StandardShort\"]\n",
    "\n",
    "w = list(map(lambda x: len(only_wins(games_from_variant(game_data, x))), variants))\n",
    "d = list(map(lambda x: len(only_draws(games_from_variant(game_data, x))), variants))\n",
    "l = list(map(lambda x: len(only_losses(games_from_variant(game_data, x))), variants))\n",
    "\n",
    "with open('csv/variant_and_result.csv', 'w', newline='') as file:\n",
    "    writer = csv.writer(file)\n",
    "    writer.writerow([\"Variant\", \"Wins\", \"Draws\", \"Losses\"])\n",
    "    writer.writerow([variants[0], w[0], d[0], l[0]])\n",
    "    writer.writerow([variants[1], w[1], d[1], l[1]])\n",
    "    writer.writerow([variants[2], w[2], d[2], l[2]])"
   ]
  },
  {
   "cell_type": "code",
   "execution_count": 27,
   "metadata": {},
   "outputs": [],
   "source": [
    "for g in game_data:\n",
    "    hour = int(g[\"UTCTime\"].split(\":\")[0])\n",
    "    \n",
    "    if hour < 12:\n",
    "        g[\"TimeCategory\"] = \"Morning\"\n",
    "    elif hour < 18:\n",
    "        g[\"TimeCategory\"] = \"Day\"\n",
    "    else:\n",
    "        g[\"TimeCategory\"] = \"Evening\""
   ]
  },
  {
   "cell_type": "code",
   "execution_count": 28,
   "metadata": {},
   "outputs": [],
   "source": [
    "def games_in_time_category(games, time_category):\n",
    "    return [g for g in games if g[\"TimeCategory\"] == time_category]"
   ]
  },
  {
   "cell_type": "code",
   "execution_count": 29,
   "metadata": {},
   "outputs": [],
   "source": [
    "# time of day and result\n",
    "time_categories = [\"Morning\", \"Day\", \"Evening\"]\n",
    "\n",
    "w = list(map(lambda x: len(only_wins(games_in_time_category(game_data, x))), time_categories))\n",
    "d = list(map(lambda x: len(only_draws(games_in_time_category(game_data, x))), time_categories))\n",
    "l = list(map(lambda x: len(only_losses(games_in_time_category(game_data, x))), time_categories))\n",
    "\n",
    "with open('csv/time_categories_and_result.csv', 'w', newline='') as file:\n",
    "    writer = csv.writer(file)\n",
    "    writer.writerow([\"TimeCategory\", \"Wins\", \"Draws\", \"Losses\"])\n",
    "    writer.writerow([time_categories[0], w[0], d[0], l[0]])\n",
    "    writer.writerow([time_categories[1], w[1], d[1], l[1]])\n",
    "    writer.writerow([time_categories[2], w[2], d[2], l[2]])"
   ]
  },
  {
   "cell_type": "code",
   "execution_count": 30,
   "metadata": {},
   "outputs": [],
   "source": [
    "def result_as_string(game):\n",
    "    if is_victory(game):\n",
    "        return \"Win\"\n",
    "    elif is_draw(game):\n",
    "        return \"Draw\"\n",
    "    else:\n",
    "        return \"Loss\"\n",
    "    \n",
    "    \n",
    "def color_as_string(game):\n",
    "    if is_white(game):\n",
    "        return \"White\"\n",
    "    else:\n",
    "        return \"Black\""
   ]
  },
  {
   "cell_type": "code",
   "execution_count": 31,
   "metadata": {},
   "outputs": [],
   "source": [
    "# all categories together in for multiple correspondence analysis\n",
    "with open('csv/mca.csv', 'w', newline='') as file:\n",
    "    writer = csv.writer(file)\n",
    "    writer.writerow([\"Result\", \"TimeCategory\", \"Color\", \"Variant\"])\n",
    "    \n",
    "    for g in game_data:\n",
    "        writer.writerow([result_as_string(g), g[\"TimeCategory\"], color_as_string(g), g[\"Variant\"]])"
   ]
  }
 ],
 "metadata": {
  "kernelspec": {
   "display_name": "Python 3",
   "language": "python",
   "name": "python3"
  },
  "language_info": {
   "codemirror_mode": {
    "name": "ipython",
    "version": 3
   },
   "file_extension": ".py",
   "mimetype": "text/x-python",
   "name": "python",
   "nbconvert_exporter": "python",
   "pygments_lexer": "ipython3",
   "version": "3.9.1"
  }
 },
 "nbformat": 4,
 "nbformat_minor": 4
}
