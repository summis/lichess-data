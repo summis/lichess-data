{
 "cells": [
  {
   "cell_type": "markdown",
   "metadata": {},
   "source": [
    "## Analysis on my chess games at [lichess.org](https://lichess.org)\n",
    "\n",
    "I have played to this date around 7500 chess games on the aforesaid website. In this notebook I'll do some exploratory analysis of my games. First we need data; we can get it from [lichess api](https://lichess.org/api#operation/apiGamesUser). Data can be downloaded without authenticating but it is faster if you authenticate and use your own [api token](https://lichess.org/account/oauth/token) and add to your request header in following `curl` command with option `-H \"Authorization: Bearer <your_token>\"`. "
   ]
  },
  {
   "cell_type": "code",
   "execution_count": 1,
   "metadata": {},
   "outputs": [
    {
     "name": "stdout",
     "output_type": "stream",
     "text": [
      "[Event \"Rated Rapid game\"]\r\n",
      "[Site \"https://lichess.org/oykful3u\"]\r\n",
      "[Date \"2020.06.19\"]\r\n",
      "[Round \"-\"]\r\n",
      "[White \"martoj13\"]\r\n",
      "[Black \"aitotumainen\"]\r\n",
      "[Result \"1-0\"]\r\n",
      "[UTCDate \"2020.06.19\"]\r\n",
      "[UTCTime \"06:12:07\"]\r\n",
      "[WhiteElo \"1920\"]\r\n",
      "[BlackElo \"1919\"]\r\n",
      "[WhiteRatingDiff \"+6\"]\r\n",
      "[BlackRatingDiff \"-6\"]\r\n",
      "[Variant \"Standard\"]\r\n",
      "[TimeControl \"600+0\"]\r\n",
      "[ECO \"B01\"]\r\n",
      "[Termination \"Normal\"]\r\n",
      "\r\n",
      "1. e4 d5 2. e5 Nc6 3. Bb5 a6 4. Bxc6+ bxc6 5. d4 Bf5 6. Nd2 e6 7. c3 c5 8. Ne2 cxd4 9. Qa4+ Qd7 10. Qxd7+ Kxd7 11. cxd4 Bd3 12. Nf4 Bb5 13. a3 c5 14. dxc5 Bxc5 15. Nb3 Bf8 16. Nd4 Ne7 17. Be3 Nf5 18. Nxf5 exf5 19. Nxd5 Re8 20. f4 Bc6 21. Rd1 Bxd5 22. Rxd5+ Kc6 23. Rd2 f6 24. Bd4 g5 25. g3 h5 26. Kf2 h4 27. Rc1+ Kb7 28. Rcc2 hxg3+ 29. hxg3 Rh2+ 30. Kg1 Rh3 31. Kg2 Rh7 32. exf6 gxf4 33. gxf4 Bh6 34. Rf2 Re4 35. Be5 Bf8 36. Rf3 Kb6 37. Rg3 Bc5 38. Rg7 Rh4 39. f7 Re1 40. Rxc5 1-0\r\n",
      "\r\n",
      "\r\n",
      "[Event \"Rated Rapid game\"]\r\n"
     ]
    }
   ],
   "source": [
    "! [ ! -f games.txt ] && curl https://lichess.org/api/games/user/aitotumainen > games.txt\n",
    "! head -22 games.txt"
   ]
  },
  {
   "cell_type": "markdown",
   "metadata": {},
   "source": [
    "### Data preprocessing\n",
    "Convert data to a list of dictionaries for further calculations. Quick and dirty but works."
   ]
  },
  {
   "cell_type": "code",
   "execution_count": 2,
   "metadata": {},
   "outputs": [],
   "source": [
    "with open('games.txt') as f:\n",
    "    games = f.read().rstrip().split('\\n\\n\\n') \n",
    "\n",
    "for i, game_str in enumerate(games):\n",
    "    game = game_str.splitlines()\n",
    "    try: \n",
    "        d = {}\n",
    "        d['Event'] = game[0].split('\\\"')[1]\n",
    "        d['Site'] = game[1].split('\\\"')[1]\n",
    "        d['Date'] = game[2].split('\\\"')[1]\n",
    "        d['Round'] = game[3].split('\\\"')[1]\n",
    "        d['White'] = game[4].split('\\\"')[1]\n",
    "        d['Black'] = game[5].split('\\\"')[1]\n",
    "        d['Result'] = game[6].split('\\\"')[1]\n",
    "        d['UTCDate'] = game[7].split('\\\"')[1]\n",
    "        d['UTCTime'] = game[8].split('\\\"')[1]\n",
    "        d['WhiteElo'] = game[9].split('\\\"')[1]\n",
    "        d['BlackElo'] = game[10].split('\\\"')[1]\n",
    "\n",
    "        # Handle rated and casual games in separate branches\n",
    "        if 'WhiteRatingDiff' in game_str:\n",
    "            d['WhiteRatingDiff'] = game[11].split('\\\"')[1]\n",
    "            d['BlackRatingDiff'] = game[12].split('\\\"')[1]\n",
    "            d['Variant'] = game[13].split('\\\"')[1]\n",
    "            d['TimeControl'] = game[14].split('\\\"')[1]\n",
    "            d['ECO'] = game[15].split('\\\"')[1]\n",
    "            d['Termination'] = game[16].split('\\\"')[1]\n",
    "\n",
    "            # Chess 960 variant has additional fields\n",
    "            if 'Chess960' in game_str:\n",
    "                d['FEN'] = game[17].split('\\\"')[1]\n",
    "                d['Setup'] = game[18].split('\\\"')[1]\n",
    "                d['Moves'] = game[20]\n",
    "            else:\n",
    "                d['Moves'] = game[18]\n",
    "        else:\n",
    "            d['Variant'] = game[11].split('\\\"')[1]\n",
    "            d['TimeControl'] = game[12].split('\\\"')[1]\n",
    "            d['ECO'] = game[13].split('\\\"')[1]\n",
    "            d['Termination'] = game[14].split('\\\"')[1]\n",
    "            \n",
    "            if 'Chess960' in game_str:\n",
    "                d['FEN'] = game[15].split('\\\"')[1]\n",
    "                d['Setup'] = game[16].split('\\\"')[1]\n",
    "                d['Moves'] = game[18]\n",
    "            else:\n",
    "                d['Moves'] = game[16]\n",
    "        games[i] = d\n",
    "    except: \n",
    "        print(game_str) "
   ]
  },
  {
   "cell_type": "code",
   "execution_count": 3,
   "metadata": {},
   "outputs": [
    {
     "name": "stdout",
     "output_type": "stream",
     "text": [
      "Standard {'victories': 1501, 'draws': 119, 'losses': 1851}\n",
      "Crazyhouse {'victories': 1684, 'draws': 14, 'losses': 2437}\n",
      "Atomic {'victories': 99, 'draws': 7, 'losses': 81}\n",
      "King of the Hill {'victories': 34, 'draws': 0, 'losses': 33}\n",
      "CM {'victories': 2, 'draws': 0, 'losses': 14}\n",
      "IM {'victories': 0, 'draws': 0, 'losses': 13}\n",
      "From Position {'victories': 3, 'draws': 0, 'losses': 4}\n",
      "Chess960 {'victories': 9, 'draws': 1, 'losses': 12}\n",
      "NM {'victories': 3, 'draws': 0, 'losses': 16}\n",
      "GM {'victories': 0, 'draws': 0, 'losses': 2}\n",
      "FM {'victories': 2, 'draws': 1, 'losses': 13}\n",
      "LM {'victories': 0, 'draws': 0, 'losses': 5}\n",
      "WFM {'victories': 0, 'draws': 0, 'losses': 1}\n",
      "Three-check {'victories': 6, 'draws': 0, 'losses': 8}\n",
      "WCM {'victories': 0, 'draws': 0, 'losses': 1}\n",
      "Racing Kings {'victories': 8, 'draws': 0, 'losses': 8}\n",
      "Horde {'victories': 1, 'draws': 0, 'losses': 7}\n",
      "Antichess {'victories': 2, 'draws': 0, 'losses': 0}\n"
     ]
    }
   ],
   "source": [
    "def is_victory(game):\n",
    "    return (game['Result'] == '0-1' and game['Black'] == 'aitotumainen')\\\n",
    "    or (game['Result'] == '1-0' and game['White'] == 'aitotumainen')\n",
    "\n",
    "def is_draw(game):\n",
    "    return game['Result'] == '1/2-1/2'\n",
    "\n",
    "results = {}\n",
    "for game in games:\n",
    "    if game['Variant'] in results:\n",
    "        if is_victory(game):\n",
    "            results[game['Variant']]['victories'] += 1\n",
    "        elif is_draw(game):\n",
    "            results[game['Variant']]['draws'] += 1\n",
    "        else:\n",
    "            results[game['Variant']]['losses'] += 1\n",
    "    else:\n",
    "        results[game['Variant']] = {'victories': 0, 'draws': 0, 'losses': 0 }\n",
    "        if is_victory(game):\n",
    "            results[game['Variant']]['victories'] = 1\n",
    "        elif is_draw(game):\n",
    "            results[game['Variant']]['draws'] = 1\n",
    "        else:\n",
    "            results[game['Variant']]['losses'] = 1\n",
    "\n",
    "for k, v in results.items():\n",
    "    print(k, v)"
   ]
  },
  {
   "cell_type": "markdown",
   "metadata": {},
   "source": [
    "### When I have played chess?"
   ]
  },
  {
   "cell_type": "markdown",
   "metadata": {},
   "source": [
    "In following mostly crazyhouse and standard variants are analyzed because they both have significant number of games. "
   ]
  },
  {
   "cell_type": "code",
   "execution_count": 4,
   "metadata": {},
   "outputs": [],
   "source": [
    "import matplotlib\n",
    "import matplotlib.pyplot as plt\n",
    "from datetime import datetime"
   ]
  },
  {
   "cell_type": "code",
   "execution_count": 5,
   "metadata": {},
   "outputs": [],
   "source": [
    "def games_per_date(games):\n",
    "    \"\"\"Input is list of dicts containing game data and output is list of tuples where first \n",
    "    value is date and second is number of games on that day\"\"\"\n",
    "    first_year = int(games[-1]['UTCDate'].split('.')[0])\n",
    "    first_month = int(games[-1]['UTCDate'].split('.')[1])\n",
    "    last_year = int(datetime.now().year)\n",
    "    last_month = int(datetime.now().month)\n",
    "    out = {}\n",
    "\n",
    "    # fill with zeros months that don't have games in data set\n",
    "    for m in range(1,13):\n",
    "        for y in range(first_year, last_year+1):\n",
    "            if not ((y == first_year and m < first_month) or (y == last_year and m > last_month)):\n",
    "                out[f\"{y}-{m:02}\"] = 0\n",
    "    \n",
    "    for game in games:\n",
    "        y, m, d = [int(x) for x in game['UTCDate'].split('.')]\n",
    "        date = f\"{y}-{m:02}\"\n",
    "        out[date] += 1\n",
    "\n",
    "    return sorted([(k, v) for k, v in out.items()], key=lambda t: t[0])\n",
    "\n",
    "\n",
    "def sparse_ticks(ax, gap):\n",
    "    \"\"\"Show labels more sparsely, maintaining end point labels.\"\"\" \n",
    "    last = len(ax.xaxis.get_ticklabels())-1\n",
    "    for n, label in enumerate(ax.xaxis.get_ticklabels()):\n",
    "        if ((n % gap != 0) and (n != last)) or ((n % gap == 0) and (n >= last-gap)):\n",
    "            label.set_visible(False)"
   ]
  },
  {
   "cell_type": "code",
   "execution_count": 6,
   "metadata": {},
   "outputs": [],
   "source": [
    "crazyhouse = games_per_date([game for game in games if game['Variant']=='Crazyhouse'])\n",
    "standard = games_per_date([game for game in games if game['Variant']=='Standard'])\n",
    "standard_10_min = games_per_date([game for game in games if game['Variant']=='Standard' \n",
    "                                  and game['TimeControl']=='600+0'])\n",
    "x_crazyhouse = [x[0] for x in crazyhouse]\n",
    "y_crazyhouse = [x[1] for x in crazyhouse]\n",
    "x_standard = [x[0] for x in standard]\n",
    "y_standard = [x[1] for x in standard]\n",
    "y_standard_10_min = [x[1] for x in standard_10_min]"
   ]
  },
  {
   "cell_type": "code",
   "execution_count": 14,
   "metadata": {},
   "outputs": [
    {
     "data": {
      "image/png": "[encoded data removed]",
      "text/plain": [
       "<Figure size 1152x720 with 2 Axes>"
      ]
     },
     "metadata": {
      "needs_background": "light"
     },
     "output_type": "display_data"
    }
   ],
   "source": [
    "# sensible default visuals + emoji support\n",
    "matplotlib.rc('axes', grid=True)\n",
    "matplotlib.rc('axes.grid', axis=\"y\")\n",
    "matplotlib.rc('axes.spines', left=False, right=False, top=False, bottom=False)\n",
    "matplotlib.rc('grid', color='white')\n",
    "matplotlib.rc('legend', frameon=False)\n",
    "matplotlib.rc('xtick', bottom=False)\n",
    "matplotlib.rc('ytick', left=False)\n",
    "matplotlib.rc('font', family='Segoe UI Emoji')\n",
    "\n",
    "fig, ax = plt.subplots(2, figsize=(16,10))\n",
    "fig.tight_layout(pad=8.0)\n",
    "\n",
    "ax[0].bar(x_crazyhouse,y_crazyhouse, width=0.5, color=\"goldenrod\")\n",
    "ax[0].set_ylabel(\"Crazyhouse games\", rotation=0, size=14, position=(0,1.01), horizontalalignment='left')\n",
    "sparse_ticks(ax[0], 5)\n",
    "\n",
    "ax[1].bar(x_standard,y_standard, width=0.5, color=\"darkturquoise\", label='Short time controls')\n",
    "ax[1].bar(x_standard,y_standard_10_min, width=0.5, color=\"blue\", label='10+0 time control')\n",
    "ax[1].set_ylabel(\"Standard games\", rotation=0, size=14, position=(0,1.01), horizontalalignment='left')\n",
    "ax[1].legend(loc=(0.7, 0.7))\n",
    "sparse_ticks(ax[1], 5)\n",
    "\n",
    "plt.show()"
   ]
  },
  {
   "cell_type": "markdown",
   "metadata": {},
   "source": [
    "I started playing in February 2016. Around May or June I achieved my top ratings and after that played significantly less. In March 2019 I started on my first job and I believe that it dropped my baseline lower. Corona has probably increased my activity although I played a lot already in February 2020. I have also moved from playing short tournament games to longer games. 10+0 is my favorite time control so I have highlighted its proportion in standard games."
   ]
  },
  {
   "cell_type": "markdown",
   "metadata": {},
   "source": [
    "### Game result and time of date"
   ]
  },
  {
   "cell_type": "code",
   "execution_count": 9,
   "metadata": {},
   "outputs": [],
   "source": [
    "def game_result_and_hour(games):\n",
    "    \"\"\"Returns three 24-long arrays, first for victories, second for draws\n",
    "    and third for losses. Value at index i tells how many victories/draws/\n",
    "    losses there were with games starting at hour i of day.\n",
    "    \"\"\"\n",
    "    victories = 24 * [0]\n",
    "    draws = 24 * [0]\n",
    "    losses = 24 * [0]\n",
    "\n",
    "    for i, game in enumerate(games):\n",
    "        hour = int(game['UTCTime'].split(':')[0])\n",
    "        if is_victory(game):\n",
    "            victories[hour] += 1\n",
    "        elif is_draw(game):\n",
    "            draws[hour] += 1\n",
    "        else:\n",
    "            losses[hour] += 1\n",
    "            \n",
    "    return victories, draws, losses"
   ]
  },
  {
   "cell_type": "code",
   "execution_count": 10,
   "metadata": {},
   "outputs": [],
   "source": [
    "crazyhouse_wins, crazyhouse_draws, crazyhouse_losses =\\\n",
    "    game_result_and_hour([game for game in games if game['Variant']=='Crazyhouse'])\n",
    "standard_wins, standard_draws, standard_losses =\\\n",
    "    game_result_and_hour([game for game in games if game['Variant']=='Standard'])\n",
    "standard_10_min_wins, standard_10_min_draws, standard_10_min_losses =\\\n",
    "    game_result_and_hour([game for game in games if game['Variant']=='Standard'\n",
    "                          and game['TimeControl']=='600+0'])"
   ]
  },
  {
   "cell_type": "code",
   "execution_count": 11,
   "metadata": {},
   "outputs": [],
   "source": [
    "def pretty_plot_wins_and_losses(ax, wins, losses, title):\n",
    "    bar_width=0.4\n",
    "    label_size=14\n",
    "    alpha_value=0.4\n",
    "    losses = [-x for x in losses]\n",
    "    diff = [sum(x) for x in zip(wins, losses)]\n",
    "    ax.bar(range(24), losses, width=bar_width, color=\"blue\", alpha=alpha_value, label=\"losses\")\n",
    "    ax.bar(range(24), wins, width=bar_width, color=\"orange\", alpha=alpha_value, label=\"wins\")\n",
    "    ax.bar(range(24), diff, width=bar_width, color=\"red\", label=\"difference\")\n",
    "    ax.axhline(linewidth=0.4, xmin=0.05, xmax=0.95, color='black')\n",
    "    ax.set_ylabel(title, rotation=0, size=label_size, position=(0,1.01), horizontalalignment='left')\n",
    "    ax.set_xlabel(\"🕒\", rotation=0, size=label_size, position=(0.5,0))\n",
    "    ax.legend(loc=(0.05, 0.7))\n",
    "    \n",
    "    # remove \"-\" signs from yticklabels\n",
    "    locsy = ax.get_yticks()\n",
    "    \n",
    "    def remove_prefix(s, prefix):\n",
    "        return s[len(prefix):] if s.startswith(prefix) else s\n",
    "    \n",
    "    ax.set_yticklabels([remove_prefix(str(int(x)), \"-\") for x in locsy])\n",
    "    \n",
    "    locsx = range(0,24,4)\n",
    "    ax.set_xticks(locsx)\n",
    "    ax.set_xticklabels(locsx)"
   ]
  },
  {
   "cell_type": "code",
   "execution_count": 12,
   "metadata": {},
   "outputs": [
    {
     "data": {
      "image/png": "[encoded data removed]",
      "text/plain": [
       "<Figure size 936x936 with 3 Axes>"
      ]
     },
     "metadata": {
      "needs_background": "light"
     },
     "output_type": "display_data"
    }
   ],
   "source": [
    "fig, ax = plt.subplots(3, figsize=(13,13))\n",
    "fig.tight_layout(pad=8.0)\n",
    "\n",
    "pretty_plot_wins_and_losses(ax[0], crazyhouse_wins, crazyhouse_losses, \"Crazyhouse games\")\n",
    "pretty_plot_wins_and_losses(ax[1], standard_wins, standard_losses, \"Standard games\")\n",
    "pretty_plot_wins_and_losses(ax[2], standard_10_min_wins, standard_10_min_losses, \"Standard games 10+0 time control\")\n",
    "\n",
    "plt.show()"
   ]
  },
  {
   "cell_type": "markdown",
   "metadata": {},
   "source": [
    "Interesting here is that my performance seem to be highest at around 14:00 which is visible both in Crazy house and Standard and especially with 10+0 time control. My best guess is that it is caused by my habit of drinking coffee at around that time."
   ]
  },
  {
   "cell_type": "markdown",
   "metadata": {},
   "source": [
    "## Predicting game outcome with logistic regression"
   ]
  },
  {
   "cell_type": "code",
   "execution_count": null,
   "metadata": {},
   "outputs": [],
   "source": [
    "import pandas as pd\n",
    "import numpy as np\n",
    "from sklearn import metrics \n",
    "from sklearn.linear_model import LogisticRegression\n",
    "from sklearn.model_selection import train_test_split"
   ]
  },
  {
   "cell_type": "code",
   "execution_count": null,
   "metadata": {},
   "outputs": [],
   "source": [
    "y = # 1=win, 0=lose\n",
    "x = # rating difference, two first moves, previous game, time of day, variant, time control,\n",
    "# use one of k encoding\n",
    "# - variant = {crazyhouse, standard, atomic, other}\n",
    "# - previous game\n",
    "\n",
    "logisticRegr = LogisticRegression()\n",
    "logisticRegr.fit(x_train, y_train)\n",
    "logisticRegr.predict(x_test[0].reshape(1,-1))"
   ]
  },
  {
   "cell_type": "markdown",
   "metadata": {},
   "source": [
    "## Predicting game outcome with Multilayer perceptron"
   ]
  },
  {
   "cell_type": "markdown",
   "metadata": {},
   "source": [
    "### TODOs\n",
    "\n",
    "- [ ] game result explained with rating difference\n",
    "- [ ] weekdays vs weekend\n",
    "- [ ] what explains victory (some kind of binary classification with logistic regression)\n",
    "- [ ] different openings\n",
    "\n",
    "\n",
    "- [] lik to https://lichess.org/@/aitotumainen/perf/rapid"
   ]
  },
  {
   "cell_type": "code",
   "execution_count": null,
   "metadata": {},
   "outputs": [],
   "source": [
    "crazyhouse_win_rate = [crazyhouse_wins[i] / (crazyhouse_wins[i]+crazyhouse_draws[i]+crazyhouse_losses[i])\\\n",
    "    if crazyhouse_wins[i]+crazyhouse_draws[i]+crazyhouse_losses[i]\\\n",
    "    else float('nan')\\\n",
    "    for i in range(len(crazyhouse_wins))]\n",
    "standard_win_rate = [standard_wins[i] / (standard_wins[i]+standard_draws[i]+standard_losses[i])\\\n",
    "    if standard_wins[i]+standard_draws[i]+standard_losses[i]\\\n",
    "    else float('nan')\\\n",
    "    for i in range(len(standard_wins))]"
   ]
  },
  {
   "cell_type": "code",
   "execution_count": 13,
   "metadata": {},
   "outputs": [
    {
     "ename": "NameError",
     "evalue": "name 'zh_wins' is not defined",
     "output_type": "error",
     "traceback": [
      "\u001b[0;31m-------------------------------------------------------------------------\u001b[0m",
      "\u001b[0;31mNameError\u001b[0m                               Traceback (most recent call last)",
      "\u001b[0;32m<ipython-input-13-57270fd70400>\u001b[0m in \u001b[0;36m<module>\u001b[0;34m\u001b[0m\n\u001b[1;32m      5\u001b[0m     \u001b[0;32mif\u001b[0m \u001b[0mrapid_wins\u001b[0m\u001b[0;34m[\u001b[0m\u001b[0mi\u001b[0m\u001b[0;34m]\u001b[0m\u001b[0;34m+\u001b[0m\u001b[0mrapid_draws\u001b[0m\u001b[0;34m[\u001b[0m\u001b[0mi\u001b[0m\u001b[0;34m]\u001b[0m\u001b[0;34m+\u001b[0m\u001b[0mrapid_losses\u001b[0m\u001b[0;34m[\u001b[0m\u001b[0mi\u001b[0m\u001b[0;34m]\u001b[0m\u001b[0;31m\\\u001b[0m\u001b[0;34m\u001b[0m\u001b[0;34m\u001b[0m\u001b[0m\n\u001b[1;32m      6\u001b[0m     \u001b[0;32melse\u001b[0m \u001b[0mfloat\u001b[0m\u001b[0;34m(\u001b[0m\u001b[0;34m'nan'\u001b[0m\u001b[0;34m)\u001b[0m\u001b[0;31m\\\u001b[0m\u001b[0;34m\u001b[0m\u001b[0;34m\u001b[0m\u001b[0m\n\u001b[0;32m----> 7\u001b[0;31m     \u001b[0;32mfor\u001b[0m \u001b[0mi\u001b[0m \u001b[0;32min\u001b[0m \u001b[0mrange\u001b[0m\u001b[0;34m(\u001b[0m\u001b[0mlen\u001b[0m\u001b[0;34m(\u001b[0m\u001b[0mzh_wins\u001b[0m\u001b[0;34m)\u001b[0m\u001b[0;34m)\u001b[0m\u001b[0;34m\u001b[0m\u001b[0;34m\u001b[0m\u001b[0m\n\u001b[0m\u001b[1;32m      8\u001b[0m     ]\n\u001b[1;32m      9\u001b[0m \u001b[0;34m\u001b[0m\u001b[0m\n",
      "\u001b[0;31mNameError\u001b[0m: name 'zh_wins' is not defined"
     ]
    }
   ],
   "source": [
    "# rapid (10 min chess, win rate seems to stay same)\n",
    "games_standard_rapid = [game for game in games if game['Variant'] == 'Standard' and game['TimeControl'] == '600+0']\n",
    "rapid_wins, rapid_draws, rapid_losses = game_result_and_hour(games_standard_rapid)\n",
    "rapid_win_rate = [rapid_wins[i] / (rapid_wins[i]+rapid_draws[i]+rapid_losses[i])\\\n",
    "    if rapid_wins[i]+rapid_draws[i]+rapid_losses[i]\\\n",
    "    else float('nan')\\\n",
    "    for i in range(len(zh_wins))\n",
    "    ]\n",
    "\n",
    "fig, axs = plt.subplots(2, figsize=(14,20))\n",
    "\n",
    "axs[0].plot(rapid_wins)\n",
    "axs[0].plot(rapid_losses)\n",
    "axs[0].set_ylabel('Rapid standard')\n",
    "\n",
    "axs[1].plot(range(len(rapid_wins)), rapid_win_rate, 'o')\n",
    "axs[1].set_ylabel('Rapid win rate')\n",
    "\n",
    "plt.show()"
   ]
  },
  {
   "cell_type": "code",
   "execution_count": null,
   "metadata": {},
   "outputs": [],
   "source": []
  }
 ],
 "metadata": {
  "kernelspec": {
   "display_name": "Python 3",
   "language": "python",
   "name": "python3"
  },
  "language_info": {
   "codemirror_mode": {
    "name": "ipython",
    "version": 3
   },
   "file_extension": ".py",
   "mimetype": "text/x-python",
   "name": "python",
   "nbconvert_exporter": "python",
   "pygments_lexer": "ipython3",
   "version": "3.8.3"
  }
 },
 "nbformat": 4,
 "nbformat_minor": 4
}
